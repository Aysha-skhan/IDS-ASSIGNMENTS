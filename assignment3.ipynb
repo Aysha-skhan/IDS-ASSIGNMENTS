{
  "cells": [
    {
      "cell_type": "code",
      "execution_count": 2,
      "metadata": {
        "trusted": true
      },
      "outputs": [
        {
          "name": "stdout",
          "output_type": "stream",
          "text": [
            "Valid Orders:  [{'customer': 'Alice', 'total': 250.5}, {'customer': 'Charlie', 'total': 450}, {'customer': 'Daisy', 'total': 100.0}]\n"
          ]
        }
      ],
      "source": [
        "orders_data = [\n",
        "    {\"customer\": \"Alice\", \"total\": 250.5},\n",
        "    {\"customer\": \"Bob\", \"total\": \"invalid_data\"},\n",
        "    {\"customer\": \"Charlie\", \"total\": 450},\n",
        "    {\"customer\": \"Daisy\", \"total\": 100.0},\n",
        "    {\"customer\": \"Eve\", \"total\": -30}\n",
        "]\n",
        "\n",
        "def filter_valid_orders(data):\n",
        "    valid_data = []\n",
        "    try:\n",
        "        valid_data = list(filter(lambda x: isinstance(x['total'], (int, float)) and x['total'] >= 0, data))\n",
        "    except Exception as e:\n",
        "        print(f\"Error: {e}\")\n",
        "    return valid_data\n",
        "\n",
        "valid_data = filter_valid_orders(orders_data)\n",
        "print(\"Valid Orders: \", valid_data)"
      ]
    },
    {
      "cell_type": "code",
      "execution_count": 2,
      "metadata": {
        "trusted": true
      },
      "outputs": [
        {
          "name": "stdout",
          "output_type": "stream",
          "text": [
            "Discounted Orders:  [{'customer': 'Alice', 'total': 250.5}, {'customer': 'Charlie', 'total': 405.0}, {'customer': 'Daisy', 'total': 100.0}]\n"
          ]
        }
      ],
      "source": [
        "def apply_discount_to_orders(data):\n",
        "    discounted_data = list(map(lambda x: {\"customer\": x[\"customer\"], \"total\": x[\"total\"] * 0.9} if x[\"total\"] > 300 else x, data))\n",
        "    return discounted_data\n",
        "discounted_data = apply_discount_to_orders(valid_data)\n",
        "print(\"Discounted Orders: \", discounted_data)"
      ]
    },
    {
      "cell_type": "code",
      "execution_count": 3,
      "metadata": {
        "trusted": true
      },
      "outputs": [
        {
          "name": "stdout",
          "output_type": "stream",
          "text": [
            "Total Sales:  755.5\n"
          ]
        }
      ],
      "source": [
        "from functools import reduce\n",
        "\n",
        "def compute_total_sales(data):\n",
        "    total_sales = reduce(lambda acc, order: acc + order['total'], data, 0)\n",
        "    return total_sales\n",
        "\n",
        "total_sales = compute_total_sales(discounted_data)\n",
        "print(\"Total Sales: \", total_sales)"
      ]
    },
    {
      "cell_type": "code",
      "execution_count": 4,
      "metadata": {
        "trusted": true
      },
      "outputs": [
        {
          "name": "stdout",
          "output_type": "stream",
          "text": [
            "1\n",
            "4\n",
            "9\n",
            "16\n",
            "25\n"
          ]
        }
      ],
      "source": [
        "class SquareNumbers:\n",
        "    def __init__(self, n):\n",
        "        self.n = n\n",
        "        self.current = 1\n",
        "\n",
        "    def __iter__(self):\n",
        "        return self\n",
        "\n",
        "    def __next__(self):\n",
        "        if self.current <= self.n:\n",
        "            result = self.current ** 2\n",
        "            self.current += 1\n",
        "            return result\n",
        "        else:\n",
        "            raise StopIteration\n",
        "\n",
        "for square in SquareNumbers(5):\n",
        "    print(square)"
      ]
    },
    {
      "cell_type": "code",
      "execution_count": 5,
      "metadata": {
        "trusted": true
      },
      "outputs": [
        {
          "name": "stdout",
          "output_type": "stream",
          "text": [
            "0\n",
            "1\n",
            "1\n",
            "2\n",
            "3\n",
            "5\n",
            "8\n",
            "13\n"
          ]
        }
      ],
      "source": [
        "def generate_fibonacci(n):\n",
        "    a, b = 0, 1\n",
        "    while a <= n:\n",
        "        yield a\n",
        "        a, b = b, a + b\n",
        "\n",
        "for num in generate_fibonacci(20):\n",
        "    print(num)\n"
      ]
    },
    {
      "cell_type": "code",
      "execution_count": 6,
      "metadata": {
        "trusted": true
      },
      "outputs": [
        {
          "name": "stdout",
          "output_type": "stream",
          "text": [
            "Cannot divide by zero\n"
          ]
        }
      ],
      "source": [
        "\n",
        "class ZeroDivisionErrorCustom(Exception):\n",
        "    pass\n",
        "\n",
        "def divide_list_numbers(numbers, divisor):\n",
        "    try:\n",
        "        if divisor == 0:\n",
        "            raise ZeroDivisionErrorCustom(\"Cannot divide by zero\")\n",
        "        return [num / divisor for num in numbers]\n",
        "    except ZeroDivisionErrorCustom as e:\n",
        "        raise e\n",
        "    except Exception as e:\n",
        "        raise Exception(\"Error occurred while dividing numbers\") from e\n",
        "\n",
        "try:\n",
        "    result = divide_list_numbers([10, 20, \"invalid\", 40], 0)\n",
        "    print(result)\n",
        "except Exception as e:\n",
        "    print(e)"
      ]
    },
    {
      "cell_type": "code",
      "execution_count": 7,
      "metadata": {
        "trusted": true
      },
      "outputs": [
        {
          "name": "stdout",
          "output_type": "stream",
          "text": [
            "Exception in test_division_function: ZeroDivisionError, division by zero\n",
            "division by zero\n"
          ]
        }
      ],
      "source": [
        "def log_exceptions_decorator(func):\n",
        "    def wrapper(*args, **kwargs):\n",
        "        try:\n",
        "            return func(*args, **kwargs)\n",
        "        except Exception as e:\n",
        "            print(f\"Exception in {func.__name__}: {type(e).__name__}, {str(e)}\")\n",
        "            raise\n",
        "    return wrapper\n",
        "\n",
        "@log_exceptions_decorator\n",
        "def test_division_function(a, b):\n",
        "    return a / b\n",
        "\n",
        "try:\n",
        "    result = test_division_function(10, 0)\n",
        "except Exception as e:\n",
        "    print(e)"
      ]
    },
    {
      "cell_type": "code",
      "execution_count": null,
      "metadata": {
        "trusted": true
      },
      "outputs": [],
      "source": []
    }
  ],
  "metadata": {
    "kernelspec": {
      "display_name": "Python 3",
      "language": "python",
      "name": "python3"
    },
    "language_info": {
      "codemirror_mode": {
        "name": "ipython",
        "version": 3
      },
      "file_extension": ".py",
      "mimetype": "text/x-python",
      "name": "python",
      "nbconvert_exporter": "python",
      "pygments_lexer": "ipython3",
      "version": "3.11.1"
    }
  },
  "nbformat": 4,
  "nbformat_minor": 4
}
