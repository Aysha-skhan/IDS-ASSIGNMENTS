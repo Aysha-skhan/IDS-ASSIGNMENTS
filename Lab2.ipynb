{
 "cells": [
  {
   "cell_type": "markdown",
   "metadata": {},
   "source": [
    "**TASK1**"
   ]
  },
  {
   "cell_type": "code",
   "execution_count": 4,
   "metadata": {},
   "outputs": [],
   "source": [
    "import numpy as np\n",
    "import random"
   ]
  },
  {
   "cell_type": "code",
   "execution_count": 11,
   "metadata": {},
   "outputs": [
    {
     "name": "stdout",
     "output_type": "stream",
     "text": [
      "[[180  75  20]\n",
      " [175  80  25]\n",
      " [190  85  30]]\n"
     ]
    }
   ],
   "source": [
    "player_stats = np.array([[180, 75, 20], [175, 80, 25], [190, 85, 30]])\n",
    "print(player_stats)"
   ]
  },
  {
   "cell_type": "code",
   "execution_count": 12,
   "metadata": {},
   "outputs": [
    {
     "name": "stdout",
     "output_type": "stream",
     "text": [
      "[[180  75  20]\n",
      " [175  80  25]\n",
      " [190  94  30]]\n"
     ]
    }
   ],
   "source": [
    "max_points_index = np.argmax(player_stats[:,2])\n",
    "# print(player_stats[:,2])\n",
    "player_stats[max_points_index, 1] += random.randint(1,10)\n",
    "print(player_stats)"
   ]
  },
  {
   "cell_type": "code",
   "execution_count": 14,
   "metadata": {},
   "outputs": [
    {
     "name": "stdout",
     "output_type": "stream",
     "text": [
      "[[180  75  20]\n",
      " [175  80  25]\n",
      " [190  94  30]\n",
      " [185  78  15]]\n"
     ]
    }
   ],
   "source": [
    "new_player = np.append(player_stats,[[185, 78, 15]],axis=0)\n",
    "print(new_player)"
   ]
  },
  {
   "cell_type": "code",
   "execution_count": 27,
   "metadata": {},
   "outputs": [
    {
     "name": "stdout",
     "output_type": "stream",
     "text": [
      "[[180  75  20]\n",
      " [140  65  11]\n",
      " [170  65  10]\n",
      " [175  80  25]\n",
      " [190  94  30]]\n"
     ]
    }
   ],
   "source": [
    "\n",
    "new_player = np.insert(player_stats,1,[140, 65, 11],axis=0)\n",
    "print(new_player)\n"
   ]
  },
  {
   "cell_type": "code",
   "execution_count": 28,
   "metadata": {},
   "outputs": [
    {
     "name": "stdout",
     "output_type": "stream",
     "text": [
      "[[180  75  20]\n",
      " [140  65  11]\n",
      " [175  80  25]\n",
      " [190  94  30]]\n"
     ]
    }
   ],
   "source": [
    "min_points_index = np.argmin(new_player[:,2])\n",
    "# print(min_points_index)\n",
    "new_player = np.delete(new_player,min_points_index,axis=0)\n",
    "print(new_player)"
   ]
  },
  {
   "cell_type": "markdown",
   "metadata": {},
   "source": [
    "**TASK2**"
   ]
  },
  {
   "cell_type": "code",
   "execution_count": 34,
   "metadata": {},
   "outputs": [
    {
     "name": "stdout",
     "output_type": "stream",
     "text": [
      "[  2   3   4   5 100 150 200 250]\n",
      "[array([150, 200, 250]), array([  2,   3,   4,   5, 100])]\n",
      "[100 150 200 250] deep-copy [ 100  150 -200  250] og\n",
      "[ 2 -3  4  5] shallow-copy [ 2 -3  4  5] og\n"
     ]
    }
   ],
   "source": [
    "\n",
    "purchase_amounts = np.array([100, 150, 200, 250])\n",
    "item_counts = np.array([2, 3, 4, 5])\n",
    "item_shallow=item_counts[:]\n",
    "purchase_deep=purchase_amounts.copy()\n",
    "conc=np.concatenate((item_shallow,purchase_deep),axis=0)\n",
    "print(conc)\n",
    "condition = conc >= 150\n",
    "split_array = [conc[condition], conc[~condition]]\n",
    "# splits=np.split(conc,4)\n",
    "print(split_array)\n",
    "purchase_amounts[2]=-200\n",
    "item_counts[1]=-3\n",
    "print(purchase_deep,'deep-copy',purchase_amounts,'og')\n",
    "print(item_counts,'shallow-copy',item_shallow,'og')\n"
   ]
  }
 ],
 "metadata": {
  "kernelspec": {
   "display_name": "Python 3",
   "language": "python",
   "name": "python3"
  },
  "language_info": {
   "codemirror_mode": {
    "name": "ipython",
    "version": 3
   },
   "file_extension": ".py",
   "mimetype": "text/x-python",
   "name": "python",
   "nbconvert_exporter": "python",
   "pygments_lexer": "ipython3",
   "version": "3.11.1"
  }
 },
 "nbformat": 4,
 "nbformat_minor": 2
}
