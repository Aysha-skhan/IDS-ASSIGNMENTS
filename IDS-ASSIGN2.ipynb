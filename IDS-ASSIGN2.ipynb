{
  "metadata": {
    "kernelspec": {
      "name": "python",
      "display_name": "Python (Pyodide)",
      "language": "python"
    },
    "language_info": {
      "codemirror_mode": {
        "name": "python",
        "version": 3
      },
      "file_extension": ".py",
      "mimetype": "text/x-python",
      "name": "python",
      "nbconvert_exporter": "python",
      "pygments_lexer": "ipython3",
      "version": "3.8"
    }
  },
  "nbformat_minor": 4,
  "nbformat": 4,
  "cells": [
    {
      "cell_type": "code",
      "source": "user_data_large = [\n    (1, 'John', 28, 'USA'),\n    (2, 'Sarah', 35, 'Canada'),\n    (3, 'Tom', 40, 'UK'),\n    (4, 'Emily', 25, 'USA'),\n    (5, 'Michael', 32, 'Canada'),\n    (6, 'Anna', 22, 'Mexico'),\n    (7, 'David', 48, 'USA'),\n    (8, 'Laura', 31, 'Canada'),\n    (9, 'Steve', 29, 'Germany'),\n    (10, 'Rachel', 38, 'USA'),\n    (11, 'Kyle', 42, 'Canada'),\n    (12, 'Sam', 37, 'Mexico'),\n    (13, 'Sophia', 50, 'USA'),\n    (14, 'Daniel', 24, 'Brazil'),\n    (15, 'Grace', 45, 'Canada'),\n    (16, 'Oliver', 33, 'USA'),\n    (17, 'Liam', 52, 'UK'),\n    (18, 'Emma', 21, 'Canada'),\n    (19, 'Mason', 34, 'USA'),\n    (20, 'Ava', 30, 'Canada'),\n    (21, 'James', 60, 'USA'),\n    (22, 'Isabella', 44, 'USA'),\n    (23, 'Lucas', 49, 'Canada'),\n    (24, 'Mia', 27, 'Mexico'),\n    (25, 'Noah', 41, 'USA'),\n    (26, 'Amelia', 36, 'Canada'),\n    (27, 'Elijah', 53, 'UK'),\n    (28, 'Ethan', 39, 'USA'),\n    (29, 'Olivia', 28, 'Canada'),\n    (30, 'Jacob', 26, 'Brazil')\n]\n\n",
      "metadata": {
        "trusted": true
      },
      "outputs": [],
      "execution_count": 18
    },
    {
      "cell_type": "code",
      "source": "def Filtering(l):\n    filtered=[]\n    for z in range(len(l)):\n        if l[z][2]>30:\n            if l[z][3]=='USA' or l[z][3]=='Canada':\n                filtered.append(l[z][1])\n    return filtered\nfiltered_users_large = Filtering(user_data_large)\nprint(\"Filtered Users (Age > 30, from USA or Canada):\", filtered_users_large)",
      "metadata": {
        "trusted": true
      },
      "outputs": [
        {
          "name": "stdout",
          "text": "Filtered Users (Age > 30, from USA or Canada): ['Sarah', 'Michael', 'David', 'Laura', 'Rachel', 'Kyle', 'Sophia', 'Grace', 'Oliver', 'Mason', 'James', 'Isabella', 'Lucas', 'Noah', 'Amelia', 'Ethan']\n",
          "output_type": "stream"
        }
      ],
      "execution_count": 19
    },
    {
      "cell_type": "code",
      "source": "def get_age(tuplee):\n    return tuplee[2]\n\ndef sortting(listt):\n    listt.sort(key=get_age, reverse=True)\n    return listt[:10]\nsorted_users_large = sortting(user_data_large)\nprint(\"Top 10 Oldest Users:\", sorted_users_large)",
      "metadata": {
        "trusted": true
      },
      "outputs": [
        {
          "name": "stdout",
          "text": "Top 10 Oldest Users: [(21, 'James', 60, 'USA'), (27, 'Elijah', 53, 'UK'), (17, 'Liam', 52, 'UK'), (13, 'Sophia', 50, 'USA'), (23, 'Lucas', 49, 'Canada'), (7, 'David', 48, 'USA'), (15, 'Grace', 45, 'Canada'), (22, 'Isabella', 44, 'USA'), (11, 'Kyle', 42, 'Canada'), (25, 'Noah', 41, 'USA')]\n",
          "output_type": "stream"
        }
      ],
      "execution_count": 20
    },
    {
      "cell_type": "code",
      "source": "\ndef duplicates(l):\n    names=[]\n    dup_names=[]\n    for a in range(len((l))):\n        if l[a][1] not in names:\n            names.append(l[a][1])\n        elif l[a][1] not in dup_names:\n            dup_names.append(l[a][1])\n    return dup_names\nduplicate_names_large = duplicates(user_data_large)\nprint(\"Duplicate Names:\", duplicate_names_large)",
      "metadata": {
        "trusted": true
      },
      "outputs": [
        {
          "name": "stdout",
          "text": "Duplicate Names: []\n",
          "output_type": "stream"
        }
      ],
      "execution_count": 22
    },
    {
      "cell_type": "code",
      "source": "transactions_large = [\n    (101, 1, 150.50, '2024-01-01'),\n    (102, 2, 200.00, '2024-01-02'),\n    (103, 3, 50.75, '2024-01-03'),\n    (104, 4, 300.25, '2024-01-04'),\n    (105, 5, 120.60, '2024-01-05'),\n    (106, 6, 500.75, '2024-01-06'),\n    (107, 7, 230.00, '2024-01-07'),\n    (108, 8, 540.40, '2024-01-08'),\n    (109, 9, 620.90, '2024-01-09'),\n    (110, 10, 410.50, '2024-01-10'),\n    (111, 11, 330.00, '2024-01-11'),\n    (112, 12, 280.75, '2024-01-12'),\n    (113, 13, 150.25, '2024-01-13'),\n    (114, 14, 400.60, '2024-01-14'),\n    (115, 15, 710.80, '2024-01-15')\n]\n",
      "metadata": {
        "trusted": true
      },
      "outputs": [],
      "execution_count": 23
    },
    {
      "cell_type": "code",
      "source": "def unique(argument, data1):\n    uniq = []\n    for z in range(len(data1)):\n        if data1[z][argument] not in uniq:\n            uniq.append(data1[z][argument])\n    return uniq\n\ndef count_unique_users(l):\n    return len(unique(1, l))\nunique_user_count = count_unique_users(transactions_large)\nprint(\"Count of Unique Users in Transactions:\", unique_user_count)",
      "metadata": {
        "trusted": true
      },
      "outputs": [
        {
          "name": "stdout",
          "text": "Count of Unique Users in Transactions: 15\n",
          "output_type": "stream"
        }
      ],
      "execution_count": 24
    },
    {
      "cell_type": "code",
      "source": "def highest_transaction(l):\n    maxx = 0\n    ind = 0\n    for z in range(len(l)):\n        if l[z][2] > maxx:\n            maxx = l[z][2]\n            ind = z\n    return l[ind]\nhighest_trans_large = highest_transaction(transactions_large)\nprint(\"Highest Transaction:\", highest_trans_large)",
      "metadata": {
        "trusted": true
      },
      "outputs": [
        {
          "name": "stdout",
          "text": "Highest Transaction: (115, 15, 710.8, '2024-01-15')\n",
          "output_type": "stream"
        }
      ],
      "execution_count": 25
    },
    {
      "cell_type": "code",
      "source": "def transaction_user_ids(l):\n    transactions = unique(0, l)\n    userr = unique(1, l)\n    return transactions, userr\ntransaction_ids, user_ids = transaction_user_ids(transactions_large)\nprint(\"Transaction IDs:\", transaction_ids)\nprint(\"User IDs from Transactions:\", user_ids)",
      "metadata": {
        "trusted": true
      },
      "outputs": [
        {
          "name": "stdout",
          "text": "Transaction IDs: [101, 102, 103, 104, 105, 106, 107, 108, 109, 110, 111, 112, 113, 114, 115]\nUser IDs from Transactions: [1, 2, 3, 4, 5, 6, 7, 8, 9, 10, 11, 12, 13, 14, 15]\n",
          "output_type": "stream"
        }
      ],
      "execution_count": 26
    },
    {
      "cell_type": "code",
      "source": "page_A_large = {1, 2, 3, 4, 5, 6, 7, 8, 9, 10}\npage_B_large = {5, 6, 7, 8, 9, 10, 11, 12, 13, 14}\npage_C_large = {1, 2, 6, 7, 15, 16, 17, 18, 19, 20}",
      "metadata": {
        "trusted": true
      },
      "outputs": [],
      "execution_count": 27
    },
    {
      "cell_type": "code",
      "source": "def user_AandB(a, b):\n    common = a & b\n    return common\ncommon_users_ab = user_AandB(page_A_large, page_B_large)\nprint(\"Users who visited both Page A and Page B:\", common_users_ab)",
      "metadata": {
        "trusted": true
      },
      "outputs": [
        {
          "name": "stdout",
          "text": "Users who visited both Page A and Page B: {5, 6, 7, 8, 9, 10}\n",
          "output_type": "stream"
        }
      ],
      "execution_count": 28
    },
    {
      "cell_type": "code",
      "source": "def user_AorC_not_both(a, c):\n    common = a & c\n    all_users = a | c\n    result = all_users - common\n    return result\nexclusive_users_ac = user_AorC_not_both(page_A_large, page_C_large)\nprint(\"Users who visited either Page A or Page C but not both:\", exclusive_users_ac)",
      "metadata": {
        "trusted": true
      },
      "outputs": [
        {
          "name": "stdout",
          "text": "Users who visited either Page A or Page C but not both: {3, 4, 5, 8, 9, 10, 15, 16, 17, 18, 19, 20}\n",
          "output_type": "stream"
        }
      ],
      "execution_count": 29
    },
    {
      "cell_type": "code",
      "source": "def update_A(a, neww):\n    a.update(neww)\nnew_users_set = {11, 12, 13}\nupdate_A(page_A_large, new_users_set)\nprint(\"Updated Page A:\", page_A_large)\n",
      "metadata": {
        "trusted": true
      },
      "outputs": [
        {
          "name": "stdout",
          "text": "Updated Page A: {1, 2, 3, 4, 5, 6, 7, 8, 9, 10, 11, 12, 13}\n",
          "output_type": "stream"
        }
      ],
      "execution_count": 30
    },
    {
      "cell_type": "code",
      "source": "def del_users(b, dell):\n    for x in dell:\n        b.discard(x)\n    return b\n    \nusers_to_delete = {5, 6}\nupdated_page_B = del_users(page_B_large, users_to_delete)\nprint(\"Updated Page B after deletion:\", updated_page_B)\n",
      "metadata": {
        "trusted": true
      },
      "outputs": [
        {
          "name": "stdout",
          "text": "Updated Page B after deletion: {7, 8, 9, 10, 11, 12, 13, 14}\n",
          "output_type": "stream"
        }
      ],
      "execution_count": 31
    },
    {
      "cell_type": "code",
      "source": "feedback_large = {\n    1: {'rating': 5, 'comments': 'Excellent service'},\n    2: {'rating': 3, 'comments': 'Good, but can improve'},\n    3: {'rating': 4, 'comments': 'Satisfied'},\n    4: {'rating': 2, 'comments': 'Not happy'},\n    5: {'rating': 5, 'comments': 'Perfect experience'},\n    6: {'rating': 1, 'comments': 'Terrible service'},\n    7: {'rating': 5, 'comments': 'Loved it'},\n    8: {'rating': 4, 'comments': 'Very good'},\n    9: {'rating': 3, 'comments': 'Average'},\n    10: {'rating': 5, 'comments': 'Fantastic!'},\n    11: {'rating': 2, 'comments': 'Poor quality'},\n    12: {'rating': 4, 'comments': 'Good value'},\n    13: {'rating': 3, 'comments': 'Could be better'},\n    14: {'rating': 5, 'comments': 'Best purchase ever'},\n    15: {'rating': 4, 'comments': 'Satisfied'},\n    16: {'rating': 5, 'comments': 'Highly recommended'},\n    17: {'rating': 1, 'comments': 'Awful'},\n    18: {'rating': 5, 'comments': 'Amazing'},\n    19: {'rating': 4, 'comments': 'Great deal'},\n    20: {'rating': 5, 'comments': 'Fantastic service'}\n}\n",
      "metadata": {
        "trusted": true
      },
      "outputs": [],
      "execution_count": 32
    },
    {
      "cell_type": "code",
      "source": "def rating_based(d):\n    neww = {}\n    for keyss, valuess in d.items():\n        if valuess['rating'] >= 4:\n            neww[keyss] = valuess['rating']\n    return neww\nhigh_ratings_large = rating_based(feedback_large)\nprint(\"Users with Ratings >= 4:\", high_ratings_large)",
      "metadata": {
        "trusted": true
      },
      "outputs": [
        {
          "name": "stdout",
          "text": "Users with Ratings >= 4: {1: 5, 3: 4, 5: 5, 7: 5, 8: 4, 10: 5, 12: 4, 14: 5, 15: 4, 16: 5, 18: 5, 19: 4, 20: 5}\n",
          "output_type": "stream"
        }
      ],
      "execution_count": 33
    },
    {
      "cell_type": "code",
      "source": "def top_five_users(d):\n    top_users = sorted(d.items(), key=lambda item: item[1]['rating'], reverse=True)[:5]\n    return dict(top_users)\ntop_users_large = top_five_users(feedback_large)\nprint(\"Top 5 Users based on Ratings:\", top_users_large)",
      "metadata": {
        "trusted": true
      },
      "outputs": [
        {
          "name": "stdout",
          "text": "Top 5 Users based on Ratings: {1: {'rating': 5, 'comments': 'Excellent service'}, 5: {'rating': 5, 'comments': 'Perfect experience'}, 7: {'rating': 5, 'comments': 'Loved it'}, 10: {'rating': 5, 'comments': 'Fantastic!'}, 14: {'rating': 5, 'comments': 'Best purchase ever'}}\n",
          "output_type": "stream"
        }
      ],
      "execution_count": 34
    },
    {
      "cell_type": "code",
      "source": "def merge_feedback(feedback_sources):\n    merged_feedback = {}\n    \n    for source in feedback_sources:\n        for user_id, info in source.items():\n            if user_id in merged_feedback:\n                merged_feedback[user_id]['rating'] = max(merged_feedback[user_id]['rating'], info['rating'])\n                merged_feedback[user_id]['comments'].append(info['comments'])\n            else:\n                merged_feedback[user_id] = {\n                    'rating': info['rating'],\n                    'comments': [info['comments']]\n                }\n    \n    for user_id in merged_feedback:\n        merged_feedback[user_id]['comments'] = ' | '.join(merged_feedback[user_id]['comments'])\n    \n    return merged_feedback\n",
      "metadata": {
        "trusted": true
      },
      "outputs": [],
      "execution_count": 35
    },
    {
      "cell_type": "code",
      "source": "def get_users_with_high_ratings(feedback):\n    return {user_id: info['rating'] for user_id, info in feedback.items() if info['rating'] > 3}",
      "metadata": {
        "trusted": true
      },
      "outputs": [],
      "execution_count": 36
    },
    {
      "cell_type": "code",
      "source": "feedback_1 = {\n    1: {'rating': 4, 'comments': 'Good service'},\n    2: {'rating': 2, 'comments': 'Average experience'},\n    3: {'rating': 5, 'comments': 'Excellent support'}\n}\n\nfeedback_2 = {\n    1: {'rating': 5, 'comments': 'Fantastic!'},\n    2: {'rating': 3, 'comments': 'It was okay'},\n    4: {'rating': 4, 'comments': 'Satisfied'}\n}\n\nfeedback_3 = {\n    5: {'rating': 2, 'comments': 'Not great'},\n    6: {'rating': 4, 'comments': 'Very helpful'},\n    1: {'rating': 3, 'comments': 'Could be better'}\n}",
      "metadata": {
        "trusted": true
      },
      "outputs": [],
      "execution_count": 37
    },
    {
      "cell_type": "code",
      "source": "combined_feedback = merge_feedback([feedback_1, feedback_2, feedback_3])\nprint(\"Combined Feedback:\", combined_feedback)",
      "metadata": {
        "trusted": true
      },
      "outputs": [
        {
          "name": "stdout",
          "text": "Combined Feedback: {1: {'rating': 5, 'comments': 'Good service | Fantastic! | Could be better'}, 2: {'rating': 3, 'comments': 'Average experience | It was okay'}, 3: {'rating': 5, 'comments': 'Excellent support'}, 4: {'rating': 4, 'comments': 'Satisfied'}, 5: {'rating': 2, 'comments': 'Not great'}, 6: {'rating': 4, 'comments': 'Very helpful'}}\n",
          "output_type": "stream"
        }
      ],
      "execution_count": 40
    },
    {
      "cell_type": "code",
      "source": "filtered_users = get_users_with_high_ratings(combined_feedback)\nprint(\"Users with Ratings > 3:\", filtered_users)",
      "metadata": {
        "trusted": true
      },
      "outputs": [
        {
          "name": "stdout",
          "text": "Users with Ratings > 3: {1: 5, 3: 5, 4: 4, 6: 4}\n",
          "output_type": "stream"
        }
      ],
      "execution_count": 42
    },
    {
      "cell_type": "code",
      "source": "",
      "metadata": {
        "trusted": true
      },
      "outputs": [],
      "execution_count": null
    }
  ]
}