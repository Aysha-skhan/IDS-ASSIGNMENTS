{
 "cells": [
  {
   "cell_type": "code",
   "execution_count": 5,
   "metadata": {},
   "outputs": [],
   "source": [
    "import numpy as np"
   ]
  },
  {
   "cell_type": "code",
   "execution_count": 43,
   "metadata": {},
   "outputs": [
    {
     "name": "stdout",
     "output_type": "stream",
     "text": [
      "[[ 1  2  3  4  5]\n",
      " [ 6  7  8  9 10]\n",
      " [11 12 13 14 15]\n",
      " [16 17 18 19 20]]\n",
      "[[ 1  2  3  4  0]\n",
      " [ 6  7  8  9  0]\n",
      " [11 12 13 14  0]\n",
      " [16 17 18 19  0]]\n",
      "[ 1  2  3  4  0  6  7  8  9  0 11 12 13 14  0 16 17 18 19  0]\n"
     ]
    }
   ],
   "source": [
    "# arr=np.random.randint(low = 1, high = 20)\n",
    "arr=np.array([1,2,3,4,5,6,7,8,9,10,11,12,13,14,15,16,17,18,19,20])\n",
    "arr2=arr.reshape(4,5)\n",
    "print(arr2)\n",
    "arr2[:,4]=0\n",
    "print(arr2)\n",
    "# arr2[0][4]=arr2[1][4]=arr2[2][4]=arr2[3][4]=0\n",
    "arr3=arr2.flatten(order='C')\n",
    "print(arr3)"
   ]
  },
  {
   "cell_type": "code",
   "execution_count": 7,
   "metadata": {},
   "outputs": [
    {
     "name": "stdout",
     "output_type": "stream",
     "text": [
      "[[41 22 23 11 27]\n",
      " [41 17 32 19 48]\n",
      " [35 23 34 25 27]\n",
      " [17 29 26 32 39]\n",
      " [19 23 12 35 38]]\n",
      "\n",
      "ROW WISE\n",
      "row: 0\n",
      "mean: 30.6\n",
      " sum: 153\n",
      " Min: 17\n",
      " MAX: 41\n",
      "\n",
      "row: 1\n",
      "mean: 22.8\n",
      " sum: 114\n",
      " Min: 17\n",
      " MAX: 29\n",
      "\n",
      "row: 2\n",
      "mean: 25.4\n",
      " sum: 127\n",
      " Min: 12\n",
      " MAX: 34\n",
      "\n",
      "row: 3\n",
      "mean: 24.4\n",
      " sum: 122\n",
      " Min: 11\n",
      " MAX: 35\n",
      "\n",
      "row: 4\n",
      "mean: 35.8\n",
      " sum: 179\n",
      " Min: 27\n",
      " MAX: 48\n",
      "\n",
      "\n",
      "COLUMN WISE\n",
      "Column: 0\n",
      "mean: 24.8\n",
      " sum: 124\n",
      " Min: 11\n",
      " MAX: 41\n",
      "\n",
      "Column: 1\n",
      "mean: 31.4\n",
      " sum: 157\n",
      " Min: 17\n",
      " MAX: 48\n",
      "\n",
      "Column: 2\n",
      "mean: 28.8\n",
      " sum: 144\n",
      " Min: 23\n",
      " MAX: 35\n",
      "\n",
      "Column: 3\n",
      "mean: 28.6\n",
      " sum: 143\n",
      " Min: 17\n",
      " MAX: 39\n",
      "\n",
      "Column: 4\n",
      "mean: 25.4\n",
      " sum: 127\n",
      " Min: 12\n",
      " MAX: 38\n",
      "\n"
     ]
    }
   ],
   "source": [
    "task2 = np.random.randint(10,50, size=(5,5))\n",
    "print(task2)\n",
    "print('\\nROW WISE')\n",
    "for t in range(5):\n",
    "    print(f'row: {t}')\n",
    "    print(f'mean: {np.mean(task2[:,t])}\\n sum: {np.sum(task2[:,t])}\\n Min: {np.min(task2[:,t])}\\n MAX: {np.max(task2[:,t])}\\n')\n",
    "print('\\nCOLUMN WISE')\n",
    "for t in range(5):\n",
    "    print(f'Column: {t}')\n",
    "    print(f'mean: {np.mean(task2[t,:])}\\n sum: {np.sum(task2[t,:])}\\n Min: {np.min(task2[t,:])}\\n MAX: {np.max(task2[t,:])}\\n')"
   ]
  },
  {
   "cell_type": "code",
   "execution_count": 22,
   "metadata": {},
   "outputs": [
    {
     "name": "stdout",
     "output_type": "stream",
     "text": [
      "[[5 0 0 0]\n",
      " [0 5 0 0]\n",
      " [0 0 5 0]\n",
      " [1 1 1 1]]\n"
     ]
    }
   ],
   "source": [
    "task3=np.identity(4,int)\n",
    "np.fill_diagonal(task3,5)\n",
    "task3[3,:]=1\n",
    "\n",
    "print(task3)"
   ]
  },
  {
   "cell_type": "code",
   "execution_count": 31,
   "metadata": {},
   "outputs": [
    {
     "name": "stdout",
     "output_type": "stream",
     "text": [
      "Count of Unique: 10\n",
      "UNIQUE ELEMENTS: [ 4  5  6 10 14 15 16 17 18 19]\n",
      "original array [ 6  4  4 10 15  6 19 18 17  5 17 14  4 14 16]\n",
      "Indices for element > 10:  [4, 6, 7, 8, 10, 11, 13, 14]\n"
     ]
    }
   ],
   "source": [
    "task4= np.random.randint(0,20, size=15)\n",
    "unii=np.unique(task4)\n",
    "print(f'Count of Unique: {len(unii)}\\nUNIQUE ELEMENTS: {unii}')\n",
    "indicess=[]\n",
    "for k in range(len(task4)):\n",
    "    if task4[k]>10:\n",
    "        indicess.append(k)\n",
    "        \n",
    "print('original array',task4)\n",
    "print('Indices for element > 10: ', indicess)"
   ]
  },
  {
   "cell_type": "code",
   "execution_count": 42,
   "metadata": {},
   "outputs": [
    {
     "name": "stdout",
     "output_type": "stream",
     "text": [
      "[[0.81995126 0.38815007 0.5234694  0.14504429]\n",
      " [0.60330105 0.06517461 0.40729842 0.72905108]\n",
      " [0.98688436 0.42984641 0.42899849 0.72194989]]\n",
      "[[0.82 0.39 0.52 0.15]\n",
      " [0.6  0.07 0.41 0.73]\n",
      " [0.99 0.43 0.43 0.72]]\n",
      "[[0.82 0.5  0.52 0.15]\n",
      " [0.6  0.5  0.41 0.73]\n",
      " [0.99 0.5  0.43 0.72]]\n"
     ]
    }
   ],
   "source": [
    "task5= np.random.rand(3,4)\n",
    "print(task5)\n",
    "task5_2=np.around(task5,2)\n",
    "print(task5_2)\n",
    "task5_3=task5_2\n",
    "task5_3[:,1]=0.5\n",
    "print(task5_3)\n"
   ]
  },
  {
   "cell_type": "code",
   "execution_count": null,
   "metadata": {},
   "outputs": [],
   "source": []
  }
 ],
 "metadata": {
  "kernelspec": {
   "display_name": "Python 3",
   "language": "python",
   "name": "python3"
  },
  "language_info": {
   "codemirror_mode": {
    "name": "ipython",
    "version": 3
   },
   "file_extension": ".py",
   "mimetype": "text/x-python",
   "name": "python",
   "nbconvert_exporter": "python",
   "pygments_lexer": "ipython3",
   "version": "3.11.1"
  }
 },
 "nbformat": 4,
 "nbformat_minor": 2
}
